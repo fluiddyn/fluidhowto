{
 "cells": [
  {
   "cell_type": "markdown",
   "metadata": {
    "slideshow": {
     "slide_type": "slide"
    }
   },
   "source": [
    "# Introduction to source control management with Mercurial and Gitlab\n",
    "\n",
    "## Motivations\n",
    "\n",
    "### Why source control management?\n",
    "\n",
    "Source control management (also known as simply \"Git\" nowadays 🙂) is an essential tool for scientists and developers!\n",
    "\n",
    "### Why Mercurial?\n",
    "\n",
    "::::{grid}\n",
    ":gutter: 2\n",
    "\n",
    ":::{grid-item}\n",
    "\n",
    "**Why not Git?** Git is a very good tool for advanced users but it is really too complicated and unsafe for what we need as scientists / students / teachers / developers of most scientific programs.\n",
    "\n",
    "```{image} ./fig/git.png\n",
    ":alt: git\n",
    ":width: 80%\n",
    ":align: center\n",
    "```\n",
    "\n",
    ":::\n",
    ":::{grid-item}\n",
    "\n",
    "I (Pierre Augier) think that [Mercurial is more adapted for us in academics](http://www.legi.grenoble-inp.fr/people/Pierre.Augier/mercurial-as-a-great-version-source-control-management-tool-in-academics.html):\n",
    "\n",
    "- simpler and safer for beginners,\n",
    "\n",
    "```{image} ./fig/schemes_hggit/simple_commands_hg.png\n",
    ":alt: git\n",
    ":width: 80%\n",
    ":align: center\n",
    "```\n",
    "\n",
    "- very powerful for advanced users (it is used for example at Facebook and Mozilla... and for the PyPy repository).\n",
    "\n",
    ":::\n",
    "\n",
    "::::\n",
    "\n",
    "For advanced Git users, when using Mercurial, you lose the Git index (but not what you usually do with it) and you gain very interesting features, like for example long-term named branches, safe distributed history edition (phases, obsolete changesets, evolve extension) and the command `hg absorb` (automatic injection of uncommitted changes into prior commits in a PR).\n",
    "\n",
    "- https://www.mercurial-scm.org/ \n",
    "\n",
    "- https://fluiddyn.readthedocs.io/en/latest/mercurial_heptapod.html\n",
    "\n",
    "### Why Gitlab?\n",
    "\n",
    "[Gitlab]: https://about.gitlab.com/\n",
    "\n",
    "- \"[GitLab] is a web-based DevOps lifecycle tool that provides a Git-repository manager providing wiki, issue-tracking and continuous integration and deployment pipeline features, using an open-source license\" (from https://en.wikipedia.org/wiki/GitLab).\n",
    "\n",
    "- [Gitlab] is an open-source and self-hosted alternative to Github (which is not open-source, not self-hosted and now owned by Microsoft).\n",
    "\n",
    "- Nice and popular projects like Debian and [Gnome](https://gitlab.gnome.org/) use [Gitlab].\n",
    "\n",
    "- Many public institutions choose Gitlab for their hosting tool, in particular our university UGA has it own [Gitlab] instance: <https://gricad-gitlab.univ-grenoble-alpes.fr>.\n",
    "\n",
    "```{admonition} Gitlab does not natively support Mercurial!\n",
    "\n",
    "For now, we'll have to use a Mercurial extension ([hg-git](https://foss.heptapod.net/mercurial/hg-git))\n",
    "and it won't be as nice as if we could use a platform natively supporting Mercurial.\n",
    "\n",
    "However, there is now [Heptapod](https://heptapod.net/), a friendly fork of Gitlab with support for Mercurial and Git.\n",
    "```"
   ]
  },
  {
   "cell_type": "markdown",
   "metadata": {
    "slideshow": {
     "slide_type": "slide"
    }
   },
   "source": [
    "## Level 0: command `help`"
   ]
  },
  {
   "cell_type": "code",
   "execution_count": 1,
   "metadata": {},
   "outputs": [],
   "source": [
    "export HGRCPATH=\"\""
   ]
  },
  {
   "cell_type": "code",
   "execution_count": 2,
   "metadata": {},
   "outputs": [
    {
     "name": "stdout",
     "output_type": "stream",
     "text": [
      "Mercurial Distributed SCM\n",
      "\n",
      "list of commands:\n",
      "\n",
      "Repository creation:\n",
      "\n",
      " clone         make a copy of an existing repository\n",
      " init          create a new repository in the given directory\n",
      "\n",
      "Remote repository management:\n",
      "\n",
      " incoming      show new changesets found in source\n",
      " outgoing      show changesets not found in the destination\n",
      " paths         show aliases for remote repositories\n",
      " pull          pull changes from the specified source\n",
      " push          push changes to the specified destination\n",
      " serve         start stand-alone webserver\n",
      "\n",
      "Change creation:\n",
      "\n",
      " commit        commit the specified files or all outstanding changes\n",
      "\n",
      "Change manipulation:\n",
      "\n",
      " backout       reverse effect of earlier changeset\n",
      " graft         copy changes from other branches onto the current branch\n",
      " merge         merge another revision into working directory\n",
      "\n",
      "Change organization:\n",
      "\n",
      " bookmarks     create a new bookmark or list existing bookmarks\n",
      " branch        set or show the current branch name\n",
      " branches      list repository named branches\n",
      " phase         set or show the current phase name\n",
      " tag           add one or more tags for the current or given revision\n",
      " tags          list repository tags\n",
      "\n",
      "File content management:\n",
      "\n",
      " annotate      show changeset information by line for each file\n",
      " cat           output the current or given revision of files\n",
      " copy          mark files as copied for the next commit\n",
      " diff          diff repository (or selected files)\n",
      " grep          search for a pattern in specified files\n",
      "\n",
      "Change navigation:\n",
      "\n",
      " bisect        subdivision search of changesets\n",
      " heads         show branch heads\n",
      " identify      identify the working directory or specified revision\n",
      " log           show revision history of entire repository or files\n",
      "\n",
      "Working directory management:\n",
      "\n",
      " add           add the specified files on the next commit\n",
      " addremove     add all new files, delete all missing files\n",
      " files         list tracked files\n",
      " forget        forget the specified files on the next commit\n",
      " purge         removes files not tracked by Mercurial\n",
      " remove        remove the specified files on the next commit\n",
      " rename        rename files; equivalent of copy + remove\n",
      " resolve       redo merges or set/view the merge status of files\n",
      " revert        restore files to their checkout state\n",
      " root          print the root (top) of the current working directory\n",
      " shelve        save and set aside changes from the working directory\n",
      " status        show changed files in the working directory\n",
      " summary       summarize working directory state\n",
      " unshelve      restore a shelved change to the working directory\n",
      " update        update working directory (or switch revisions)\n",
      "\n",
      "Change import/export:\n",
      "\n",
      " archive       create an unversioned archive of a repository revision\n",
      " bundle        create a bundle file\n",
      " export        dump the header and diffs for one or more changesets\n",
      " import        import an ordered set of patches\n",
      " unbundle      apply one or more bundle files\n",
      "\n",
      "Repository maintenance:\n",
      "\n",
      " manifest      output the current or given revision of the project manifest\n",
      " recover       roll back an interrupted transaction\n",
      " verify        verify the integrity of the repository\n",
      "\n",
      "Help:\n",
      "\n",
      " config        show combined config settings from all hgrc files\n",
      " help          show help for a given topic or a help overview\n",
      " version       output version and copyright information\n",
      "\n",
      "additional help topics:\n",
      "\n",
      "Mercurial identifiers:\n",
      "\n",
      " filesets      Specifying File Sets\n",
      " hgignore      Syntax for Mercurial Ignore Files\n",
      " patterns      File Name Patterns\n",
      " revisions     Specifying Revisions\n",
      " urls          URL Paths\n",
      "\n",
      "Mercurial output:\n",
      "\n",
      " color         Colorizing Outputs\n",
      " dates         Date Formats\n",
      " diffs         Diff Formats\n",
      " templating    Template Usage\n",
      "\n",
      "Mercurial configuration:\n",
      "\n",
      " config        Configuration Files\n",
      " environment   Environment Variables\n",
      " extensions    Using Additional Features\n",
      " flags         Command-line flags\n",
      " hgweb         Configuring hgweb\n",
      " merge-tools   Merge Tools\n",
      " pager         Pager Support\n",
      " rust          Rust in Mercurial\n",
      "\n",
      "Concepts:\n",
      "\n",
      " bundlespec    Bundle File Formats\n",
      " evolution     Safely rewriting history (EXPERIMENTAL)\n",
      " glossary      Glossary\n",
      " phases        Working with Phases\n",
      " subrepos      Subrepositories\n",
      "\n",
      "Miscellaneous:\n",
      "\n",
      " deprecated    Deprecated Features\n",
      " internals     Technical implementation topics\n",
      " scripting     Using Mercurial from scripts and automation\n",
      "\n",
      "(use 'hg help -v' to show built-in aliases and global options)\n"
     ]
    }
   ],
   "source": [
    "hg help"
   ]
  },
  {
   "cell_type": "code",
   "execution_count": 3,
   "metadata": {},
   "outputs": [
    {
     "name": "stdout",
     "output_type": "stream",
     "text": [
      "hg init [-e CMD] [--remotecmd CMD] [DEST]\n",
      "\n",
      "create a new repository in the given directory\n",
      "\n",
      "    Initialize a new repository in the given directory. If the given directory\n",
      "    does not exist, it will be created.\n",
      "\n",
      "    If no directory is given, the current directory is used.\n",
      "\n",
      "    It is possible to specify an \"ssh://\" URL as the destination. See 'hg help\n",
      "    urls' for more information.\n",
      "\n",
      "    Returns 0 on success.\n",
      "\n",
      "options:\n",
      "\n",
      " -e --ssh CMD       specify ssh command to use\n",
      "    --remotecmd CMD specify hg command to run on the remote side\n",
      "    --insecure      do not verify server certificate (ignoring web.cacerts\n",
      "                    config)\n",
      "\n",
      "(some details hidden, use --verbose to show complete help)\n"
     ]
    }
   ],
   "source": [
    "hg help init"
   ]
  },
  {
   "cell_type": "code",
   "execution_count": 4,
   "metadata": {},
   "outputs": [],
   "source": [
    "export HGRCPATH=$PWD/hgrc4ipynb"
   ]
  },
  {
   "cell_type": "markdown",
   "metadata": {
    "slideshow": {
     "slide_type": "slide"
    }
   },
   "source": [
    "## Level 0: one local repository\n",
    "\n",
    "```{image} ./fig/schemes_hggit/simple_commands_hg.png\n",
    ":alt: git\n",
    ":width: 60%\n",
    ":align: center\n",
    "```"
   ]
  },
  {
   "cell_type": "markdown",
   "metadata": {},
   "source": [
    "## Commands `init`, `status`, `add`, `remove`, `addremove`, `commit`, `log` and `summary`"
   ]
  },
  {
   "cell_type": "code",
   "execution_count": 5,
   "metadata": {},
   "outputs": [],
   "source": [
    "# cleanup\n",
    "rm -rf /tmp/myrepos"
   ]
  },
  {
   "cell_type": "markdown",
   "metadata": {},
   "source": [
    "Let's create a directory and a file in it."
   ]
  },
  {
   "cell_type": "code",
   "execution_count": 6,
   "metadata": {},
   "outputs": [],
   "source": [
    "mkdir -p /tmp/myrepos/myrepo0\n",
    "cd /tmp/myrepos/myrepo0\n",
    "touch file0.txt"
   ]
  },
  {
   "cell_type": "markdown",
   "metadata": {},
   "source": [
    "Let's tell Mercurial that we want to make a new repository from this directory."
   ]
  },
  {
   "cell_type": "code",
   "execution_count": 7,
   "metadata": {},
   "outputs": [],
   "source": [
    "hg init"
   ]
  },
  {
   "cell_type": "markdown",
   "metadata": {},
   "source": [
    "Let's ask Mercurial what is new in this repository."
   ]
  },
  {
   "cell_type": "code",
   "execution_count": 8,
   "metadata": {},
   "outputs": [
    {
     "name": "stdout",
     "output_type": "stream",
     "text": [
      "\u001b[0;35;1;4m? \u001b[0m\u001b[0;35;1;4mfile0.txt\u001b[0m\n"
     ]
    }
   ],
   "source": [
    "hg status"
   ]
  },
  {
   "cell_type": "code",
   "execution_count": 9,
   "metadata": {},
   "outputs": [
    {
     "name": "stdout",
     "output_type": "stream",
     "text": [
      "\u001b[0;35;1;4m? \u001b[0m\u001b[0;35;1;4mfile0.txt\u001b[0m\n"
     ]
    }
   ],
   "source": [
    "# equivalent command (shorter)\n",
    "hg st"
   ]
  },
  {
   "cell_type": "markdown",
   "metadata": {},
   "source": [
    "We want to \"Schedule files to be version controlled and added to the repository.\""
   ]
  },
  {
   "cell_type": "code",
   "execution_count": 10,
   "metadata": {},
   "outputs": [
    {
     "name": "stdout",
     "output_type": "stream",
     "text": [
      "\u001b[0;32madding file0.txt\u001b[0m\n"
     ]
    }
   ],
   "source": [
    "hg add"
   ]
  },
  {
   "cell_type": "markdown",
   "metadata": {},
   "source": [
    "A new `status` gives"
   ]
  },
  {
   "cell_type": "code",
   "execution_count": 11,
   "metadata": {},
   "outputs": [
    {
     "name": "stdout",
     "output_type": "stream",
     "text": [
      "\u001b[0;32;1mA \u001b[0m\u001b[0;32;1mfile0.txt\u001b[0m\n"
     ]
    }
   ],
   "source": [
    "hg st"
   ]
  },
  {
   "cell_type": "markdown",
   "metadata": {},
   "source": [
    "Let's now create the first commit (or \"changeset\"). We can think about it as **a snapshot of the code** as it is now."
   ]
  },
  {
   "cell_type": "code",
   "execution_count": 12,
   "metadata": {},
   "outputs": [],
   "source": [
    "hg commit -m \"First commit\""
   ]
  },
  {
   "cell_type": "markdown",
   "metadata": {},
   "source": [
    "A new `status` returns nothing because there is nothing new from the last commit."
   ]
  },
  {
   "cell_type": "code",
   "execution_count": 13,
   "metadata": {},
   "outputs": [],
   "source": [
    "hg st"
   ]
  },
  {
   "cell_type": "markdown",
   "metadata": {},
   "source": [
    "Let's add a new file:"
   ]
  },
  {
   "cell_type": "code",
   "execution_count": 14,
   "metadata": {},
   "outputs": [],
   "source": [
    "touch file1.txt"
   ]
  },
  {
   "cell_type": "code",
   "execution_count": 15,
   "metadata": {},
   "outputs": [
    {
     "name": "stdout",
     "output_type": "stream",
     "text": [
      "\u001b[0;35;1;4m? \u001b[0m\u001b[0;35;1;4mfile1.txt\u001b[0m\n"
     ]
    }
   ],
   "source": [
    "hg st"
   ]
  },
  {
   "cell_type": "code",
   "execution_count": 16,
   "metadata": {},
   "outputs": [],
   "source": [
    "rm -f file0.txt"
   ]
  },
  {
   "cell_type": "code",
   "execution_count": 17,
   "metadata": {},
   "outputs": [
    {
     "name": "stdout",
     "output_type": "stream",
     "text": [
      "\u001b[0;36;1;4m! \u001b[0m\u001b[0;36;1;4mfile0.txt\u001b[0m\n",
      "\u001b[0;35;1;4m? \u001b[0m\u001b[0;35;1;4mfile1.txt\u001b[0m\n"
     ]
    }
   ],
   "source": [
    "hg st"
   ]
  },
  {
   "cell_type": "markdown",
   "metadata": {},
   "source": [
    "One new file and one file removed from the working directory. We want to take a new snapshot of the code how it is now. `addremove` is very useful is that common situation."
   ]
  },
  {
   "cell_type": "code",
   "execution_count": 18,
   "metadata": {},
   "outputs": [
    {
     "name": "stdout",
     "output_type": "stream",
     "text": [
      "\u001b[0;31mremoving file0.txt\u001b[0m\n",
      "\u001b[0;32madding file1.txt\u001b[0m\n"
     ]
    }
   ],
   "source": [
    "hg addremove\n",
    "# or\n",
    "# hg addre"
   ]
  },
  {
   "cell_type": "code",
   "execution_count": 19,
   "metadata": {},
   "outputs": [
    {
     "name": "stdout",
     "output_type": "stream",
     "text": [
      "\u001b[0;32;1mA \u001b[0m\u001b[0;32;1mfile1.txt\u001b[0m\n",
      "\u001b[0;31;1mR \u001b[0m\u001b[0;31;1mfile0.txt\u001b[0m\n"
     ]
    }
   ],
   "source": [
    "hg st"
   ]
  },
  {
   "cell_type": "code",
   "execution_count": 20,
   "metadata": {},
   "outputs": [],
   "source": [
    "hg commit -m \"Remove file0 and add file1\""
   ]
  },
  {
   "cell_type": "code",
   "execution_count": 21,
   "metadata": {},
   "outputs": [],
   "source": [
    "hg st"
   ]
  },
  {
   "cell_type": "code",
   "execution_count": 22,
   "metadata": {},
   "outputs": [
    {
     "name": "stdout",
     "output_type": "stream",
     "text": [
      "file1.txt\n"
     ]
    }
   ],
   "source": [
    "ls"
   ]
  },
  {
   "cell_type": "markdown",
   "metadata": {},
   "source": [
    "Let's modify the file `file1.txt`: "
   ]
  },
  {
   "cell_type": "code",
   "execution_count": 23,
   "metadata": {},
   "outputs": [],
   "source": [
    "echo \"Hello world!\" >> file1.txt"
   ]
  },
  {
   "cell_type": "code",
   "execution_count": 24,
   "metadata": {},
   "outputs": [
    {
     "name": "stdout",
     "output_type": "stream",
     "text": [
      "\u001b[0;34;1mM \u001b[0m\u001b[0;34;1mfile1.txt\u001b[0m\n"
     ]
    }
   ],
   "source": [
    "hg st"
   ]
  },
  {
   "cell_type": "markdown",
   "metadata": {},
   "source": [
    "There is no \"Git index\" in Mercurial. A modification in a versioned file is automatically included in the next commit. \n",
    "\n",
    "We can really think about the commits as \"snapshots of the code\" as it is in the working directory."
   ]
  },
  {
   "cell_type": "code",
   "execution_count": 25,
   "metadata": {},
   "outputs": [],
   "source": [
    "hg commit -m \"Hello world in file1.txt\""
   ]
  },
  {
   "cell_type": "code",
   "execution_count": 26,
   "metadata": {},
   "outputs": [],
   "source": [
    "hg st"
   ]
  },
  {
   "cell_type": "markdown",
   "metadata": {},
   "source": [
    "We used a lot `status` to get information about the state of the repository. Let's discover 2 other very useful commands: `sum` (or `summary`) and `log`."
   ]
  },
  {
   "cell_type": "code",
   "execution_count": 27,
   "metadata": {},
   "outputs": [
    {
     "name": "stdout",
     "output_type": "stream",
     "text": [
      "\u001b[0;31;1mparent: 2:8bfba1b25e7d \u001b[0mtip\n",
      " Hello world in file1.txt\n",
      "branch: default\n",
      "commit: (clean)\n",
      "update: (current)\n",
      "phases: 3 draft\n"
     ]
    }
   ],
   "source": [
    "hg sum"
   ]
  },
  {
   "cell_type": "markdown",
   "metadata": {},
   "source": [
    "Mercurial tells us that we are in the branch `default`, which is... the default \"named branch\". Note that Mercurial \"named branches\" are used only for long term features or versions of software (for example \"pypy2.7\" and \"pypy3.6\" in Pypy repository) and not for feature branches like branches in Git. For this tutorial, we won't use other named branches and we'll always work in the `default` branch.\n",
    "\n",
    "```{margin} Branches\n",
    "\n",
    "When reading stuff on the web or working in open-source, you will hear a lot about \"branches\". Most of the time, it will be about \"Git branches\", which are lightweight \"feature branches\".\n",
    "\n",
    "Mercurial has different concepts to handle different types of \"branches\":\n",
    "\n",
    "- named branches (for long term features or versions of software, see `hg help branch`)\n",
    "\n",
    "- anonymous branches, which are created when one creates a commit from a commit which has already a child.\n",
    "\n",
    "- bookmarks (for \"feature branches\", see `hg help bookmark`). This is the closest equivalent to the \"Git branches\" and it is used to represent \"Git branches\" when working with hg-git.\n",
    "\n",
    "- topics (with the topic extension, see [this tutorial](https://www.mercurial-scm.org/doc/evolution/tutorials/topic-tutorial.html)). Better than bookmarks. \n",
    "This is the modern way to work with \"feature branches\" with Mercurial.\n",
    "\n",
    "```"
   ]
  },
  {
   "cell_type": "code",
   "execution_count": 28,
   "metadata": {},
   "outputs": [
    {
     "name": "stdout",
     "output_type": "stream",
     "text": [
      "\u001b[0;31;1mchangeset:   2:8bfba1b25e7d\u001b[0m\n",
      "tag:         tip\n",
      "user:        Pierre Augier <pa@example.com>\n",
      "date:        Tue Sep 06 21:44:41 2022 +0200\n",
      "summary:     Hello world in file1.txt\n",
      "\n",
      "\u001b[0;31;1mchangeset:   1:02ac2678cff1\u001b[0m\n",
      "user:        Pierre Augier <pa@example.com>\n",
      "date:        Tue Sep 06 21:44:40 2022 +0200\n",
      "summary:     Remove file0 and add file1\n",
      "\n",
      "\u001b[0;31;1mchangeset:   0:f7dcc9188623\u001b[0m\n",
      "user:        Pierre Augier <pa@example.com>\n",
      "date:        Tue Sep 06 21:44:38 2022 +0200\n",
      "summary:     First commit\n",
      "\n"
     ]
    }
   ],
   "source": [
    "hg log"
   ]
  },
  {
   "cell_type": "code",
   "execution_count": 29,
   "metadata": {},
   "outputs": [
    {
     "name": "stdout",
     "output_type": "stream",
     "text": [
      "@  \u001b[0;31;1mchangeset:   2:8bfba1b25e7d\u001b[0m\n",
      "|  tag:         tip\n",
      "|  user:        Pierre Augier <pa@example.com>\n",
      "|  date:        Tue Sep 06 21:44:41 2022 +0200\n",
      "|  summary:     Hello world in file1.txt\n",
      "|\n",
      "o  \u001b[0;31;1mchangeset:   1:02ac2678cff1\u001b[0m\n",
      "|  user:        Pierre Augier <pa@example.com>\n",
      "|  date:        Tue Sep 06 21:44:40 2022 +0200\n",
      "|  summary:     Remove file0 and add file1\n",
      "|\n",
      "o  \u001b[0;31;1mchangeset:   0:f7dcc9188623\u001b[0m\n",
      "   user:        Pierre Augier <pa@example.com>\n",
      "   date:        Tue Sep 06 21:44:38 2022 +0200\n",
      "   summary:     First commit\n",
      "\n"
     ]
    }
   ],
   "source": [
    "hg log --graph"
   ]
  },
  {
   "cell_type": "code",
   "execution_count": 30,
   "metadata": {},
   "outputs": [
    {
     "name": "stdout",
     "output_type": "stream",
     "text": [
      "@  \u001b[0;31;1mchangeset:   2:8bfba1b25e7d\u001b[0m\n",
      "|  tag:         tip\n",
      "|  user:        Pierre Augier <pa@example.com>\n",
      "|  date:        Tue Sep 06 21:44:41 2022 +0200\n",
      "|  summary:     Hello world in file1.txt\n",
      "|\n",
      "o  \u001b[0;31;1mchangeset:   1:02ac2678cff1\u001b[0m\n",
      "|  user:        Pierre Augier <pa@example.com>\n",
      "|  date:        Tue Sep 06 21:44:40 2022 +0200\n",
      "|  summary:     Remove file0 and add file1\n",
      "|\n",
      "o  \u001b[0;31;1mchangeset:   0:f7dcc9188623\u001b[0m\n",
      "   user:        Pierre Augier <pa@example.com>\n",
      "   date:        Tue Sep 06 21:44:38 2022 +0200\n",
      "   summary:     First commit\n",
      "\n"
     ]
    }
   ],
   "source": [
    "hg log -G"
   ]
  },
  {
   "cell_type": "markdown",
   "metadata": {
    "slideshow": {
     "slide_type": "slide"
    }
   },
   "source": [
    "## Level 0.1: about the special files .hgignore and .gitignore\n",
    "\n",
    "There are files that you don't want to include in a repository. Usually, you want to include the source but not what is produced with the source (programs, libraries, pdf files, etc.).\n",
    "\n",
    "To avoid to have too many files listed when one call `hg st`, one can add a file `.hgignore` (or `.gitignore`, when using hg-git).\n",
    "\n",
    "See https://www.mercurial-scm.org/wiki/.hgignore and https://git-scm.com/docs/gitignore\n",
    "\n",
    "Typical content of a `.gitignore` file:\n",
    "\n",
    "```\n",
    "*.pyd*\n",
    "*.pyc\n",
    "*~\n",
    "*tmp\n",
    "\\#*\\#\n",
    "*.slides.html\n",
    ".ipynb_checkpoints\n",
    "```"
   ]
  },
  {
   "cell_type": "markdown",
   "metadata": {
    "slideshow": {
     "slide_type": "slide"
    }
   },
   "source": [
    "## Level 1.0: command `revert`"
   ]
  },
  {
   "cell_type": "code",
   "execution_count": 31,
   "metadata": {},
   "outputs": [
    {
     "name": "stdout",
     "output_type": "stream",
     "text": [
      "Hello world!\n"
     ]
    }
   ],
   "source": [
    "cat file1.txt"
   ]
  },
  {
   "cell_type": "code",
   "execution_count": 32,
   "metadata": {},
   "outputs": [],
   "source": [
    "echo \"Something wrong\" > file1.txt"
   ]
  },
  {
   "cell_type": "markdown",
   "metadata": {},
   "source": [
    "Oh, here, we really did something wrong. It's buggy. Let's see where is our problem."
   ]
  },
  {
   "cell_type": "code",
   "execution_count": 33,
   "metadata": {},
   "outputs": [
    {
     "name": "stdout",
     "output_type": "stream",
     "text": [
      "\u001b[0;34;1mM \u001b[0m\u001b[0;34;1mfile1.txt\u001b[0m\n"
     ]
    }
   ],
   "source": [
    "hg st"
   ]
  },
  {
   "cell_type": "markdown",
   "metadata": {},
   "source": [
    "The command `diff` shows the differences between the working directory and the parent commit."
   ]
  },
  {
   "cell_type": "code",
   "execution_count": 34,
   "metadata": {},
   "outputs": [
    {
     "name": "stdout",
     "output_type": "stream",
     "text": [
      "\u001b[0;1mdiff --git a/file1.txt b/file1.txt\u001b[0m\n",
      "\u001b[0;31;1m--- a/file1.txt\u001b[0m\n",
      "\u001b[0;32;1m+++ b/file1.txt\u001b[0m\n",
      "\u001b[0;35m@@ -1,1 +1,1 @@\u001b[0m\n",
      "\u001b[0;31m-\u001b[0m\u001b[0;31;1;4mHello\u001b[0m\u001b[0;31m \u001b[0m\u001b[0;31;1;4mworld!\u001b[0m\n",
      "\u001b[0;32m+\u001b[0m\u001b[0;32;1;4mSomething\u001b[0m\u001b[0;32m \u001b[0m\u001b[0;32;1;4mwrong\u001b[0m\n"
     ]
    }
   ],
   "source": [
    "hg diff"
   ]
  },
  {
   "cell_type": "markdown",
   "metadata": {},
   "source": [
    "We could also use `hg meld` which opens the program `meld` to present the same thing graphically."
   ]
  },
  {
   "cell_type": "code",
   "execution_count": 35,
   "metadata": {},
   "outputs": [],
   "source": [
    "hg revert file1.txt\n",
    "# or to revert all files:\n",
    "# hg revert --all"
   ]
  },
  {
   "cell_type": "code",
   "execution_count": 36,
   "metadata": {},
   "outputs": [
    {
     "name": "stdout",
     "output_type": "stream",
     "text": [
      "file1.txt  file1.txt.orig\n"
     ]
    }
   ],
   "source": [
    "ls"
   ]
  },
  {
   "cell_type": "code",
   "execution_count": 37,
   "metadata": {},
   "outputs": [
    {
     "name": "stdout",
     "output_type": "stream",
     "text": [
      "\u001b[0;35;1;4m? \u001b[0m\u001b[0;35;1;4mfile1.txt.orig\u001b[0m\n"
     ]
    }
   ],
   "source": [
    "hg st"
   ]
  },
  {
   "cell_type": "code",
   "execution_count": 38,
   "metadata": {},
   "outputs": [],
   "source": [
    "rm -f file1.txt.orig"
   ]
  },
  {
   "cell_type": "markdown",
   "metadata": {
    "slideshow": {
     "slide_type": "slide"
    }
   },
   "source": [
    "## Level 1.1: command `update`"
   ]
  },
  {
   "cell_type": "code",
   "execution_count": 39,
   "metadata": {},
   "outputs": [
    {
     "name": "stdout",
     "output_type": "stream",
     "text": [
      "@  \u001b[0;31;1mchangeset:   2:8bfba1b25e7d\u001b[0m\n",
      "|  tag:         tip\n",
      "|  user:        Pierre Augier <pa@example.com>\n",
      "|  date:        Tue Sep 06 21:44:41 2022 +0200\n",
      "|  summary:     Hello world in file1.txt\n",
      "|\n",
      "o  \u001b[0;31;1mchangeset:   1:02ac2678cff1\u001b[0m\n",
      "|  user:        Pierre Augier <pa@example.com>\n",
      "|  date:        Tue Sep 06 21:44:40 2022 +0200\n",
      "|  summary:     Remove file0 and add file1\n",
      "|\n",
      "o  \u001b[0;31;1mchangeset:   0:f7dcc9188623\u001b[0m\n",
      "   user:        Pierre Augier <pa@example.com>\n",
      "   date:        Tue Sep 06 21:44:38 2022 +0200\n",
      "   summary:     First commit\n",
      "\n"
     ]
    }
   ],
   "source": [
    "hg log -G"
   ]
  },
  {
   "cell_type": "code",
   "execution_count": 40,
   "metadata": {},
   "outputs": [
    {
     "name": "stdout",
     "output_type": "stream",
     "text": [
      "1 files updated, 0 files merged, 1 files removed, 0 files unresolved\n"
     ]
    }
   ],
   "source": [
    "hg update 0\n",
    "# `update` or just `up`"
   ]
  },
  {
   "cell_type": "code",
   "execution_count": 41,
   "metadata": {},
   "outputs": [
    {
     "name": "stdout",
     "output_type": "stream",
     "text": [
      "\u001b[0;31;1mparent: 0:f7dcc9188623 \u001b[0m\n",
      " First commit\n",
      "branch: default\n",
      "commit: (clean)\n",
      "update: 2 new changesets (update)\n",
      "phases: 3 draft\n"
     ]
    }
   ],
   "source": [
    "hg sum"
   ]
  },
  {
   "cell_type": "code",
   "execution_count": 42,
   "metadata": {},
   "outputs": [
    {
     "name": "stdout",
     "output_type": "stream",
     "text": [
      "file0.txt\n"
     ]
    }
   ],
   "source": [
    "ls"
   ]
  },
  {
   "cell_type": "code",
   "execution_count": 43,
   "metadata": {},
   "outputs": [],
   "source": [
    "echo \"A line in file0.txt\" >> file0.txt"
   ]
  },
  {
   "cell_type": "code",
   "execution_count": 44,
   "metadata": {},
   "outputs": [
    {
     "name": "stdout",
     "output_type": "stream",
     "text": [
      "\u001b[0;34;1mM \u001b[0m\u001b[0;34;1mfile0.txt\u001b[0m\n"
     ]
    }
   ],
   "source": [
    "hg st"
   ]
  },
  {
   "cell_type": "code",
   "execution_count": 45,
   "metadata": {},
   "outputs": [
    {
     "name": "stdout",
     "output_type": "stream",
     "text": [
      "created new head\n"
     ]
    }
   ],
   "source": [
    "hg commit -m \"A line in file0.txt\""
   ]
  },
  {
   "cell_type": "markdown",
   "metadata": {},
   "source": [
    "We were at commit 0 and we commited. It created a (unnamed) branch."
   ]
  },
  {
   "cell_type": "code",
   "execution_count": 46,
   "metadata": {},
   "outputs": [
    {
     "name": "stdout",
     "output_type": "stream",
     "text": [
      "@  \u001b[0;31;1mchangeset:   3:d7f0bba98ea8\u001b[0m\n",
      "|  tag:         tip\n",
      "|  parent:      0:f7dcc9188623\n",
      "|  user:        Pierre Augier <pa@example.com>\n",
      "|  date:        Tue Sep 06 21:44:46 2022 +0200\n",
      "|  summary:     A line in file0.txt\n",
      "|\n",
      "| o  \u001b[0;31;1mchangeset:   2:8bfba1b25e7d\u001b[0m\n",
      "| |  user:        Pierre Augier <pa@example.com>\n",
      "| |  date:        Tue Sep 06 21:44:41 2022 +0200\n",
      "| |  summary:     Hello world in file1.txt\n",
      "| |\n",
      "| o  \u001b[0;31;1mchangeset:   1:02ac2678cff1\u001b[0m\n",
      "|/   user:        Pierre Augier <pa@example.com>\n",
      "|    date:        Tue Sep 06 21:44:40 2022 +0200\n",
      "|    summary:     Remove file0 and add file1\n",
      "|\n",
      "o  \u001b[0;31;1mchangeset:   0:f7dcc9188623\u001b[0m\n",
      "   user:        Pierre Augier <pa@example.com>\n",
      "   date:        Tue Sep 06 21:44:38 2022 +0200\n",
      "   summary:     First commit\n",
      "\n"
     ]
    }
   ],
   "source": [
    "hg log -G"
   ]
  },
  {
   "cell_type": "code",
   "execution_count": 47,
   "metadata": {},
   "outputs": [
    {
     "name": "stdout",
     "output_type": "stream",
     "text": [
      "1 files updated, 0 files merged, 1 files removed, 0 files unresolved\n"
     ]
    }
   ],
   "source": [
    "hg up 1"
   ]
  },
  {
   "cell_type": "code",
   "execution_count": 48,
   "metadata": {},
   "outputs": [
    {
     "name": "stdout",
     "output_type": "stream",
     "text": [
      "\u001b[0;31;1mparent: 1:02ac2678cff1 \u001b[0m\n",
      " Remove file0 and add file1\n",
      "branch: default\n",
      "commit: (clean)\n",
      "update: 2 new changesets (update)\n",
      "phases: 4 draft\n"
     ]
    }
   ],
   "source": [
    "hg sum"
   ]
  },
  {
   "cell_type": "code",
   "execution_count": 49,
   "metadata": {},
   "outputs": [
    {
     "name": "stdout",
     "output_type": "stream",
     "text": [
      "1 files updated, 0 files merged, 0 files removed, 0 files unresolved\n",
      "updated to \"8bfba1b25e7d: Hello world in file1.txt\"\n",
      "1 other heads for branch \"default\"\n"
     ]
    }
   ],
   "source": [
    "hg up"
   ]
  },
  {
   "cell_type": "code",
   "execution_count": 50,
   "metadata": {},
   "outputs": [
    {
     "name": "stdout",
     "output_type": "stream",
     "text": [
      "\u001b[0;31;1mparent: 2:8bfba1b25e7d \u001b[0m\n",
      " Hello world in file1.txt\n",
      "branch: default\n",
      "commit: (clean)\n",
      "update: 1 new changesets, 2 branch heads (merge)\n",
      "phases: 4 draft\n"
     ]
    }
   ],
   "source": [
    "hg sum"
   ]
  },
  {
   "cell_type": "code",
   "execution_count": 51,
   "metadata": {},
   "outputs": [
    {
     "name": "stdout",
     "output_type": "stream",
     "text": [
      "file1.txt\n"
     ]
    }
   ],
   "source": [
    "ls"
   ]
  },
  {
   "cell_type": "code",
   "execution_count": 52,
   "metadata": {},
   "outputs": [],
   "source": [
    "touch file2.txt"
   ]
  },
  {
   "cell_type": "code",
   "execution_count": 53,
   "metadata": {},
   "outputs": [
    {
     "name": "stdout",
     "output_type": "stream",
     "text": [
      "\u001b[0;35;1;4m? \u001b[0m\u001b[0;35;1;4mfile2.txt\u001b[0m\n"
     ]
    }
   ],
   "source": [
    "hg st"
   ]
  },
  {
   "cell_type": "code",
   "execution_count": 54,
   "metadata": {},
   "outputs": [
    {
     "name": "stdout",
     "output_type": "stream",
     "text": [
      "\u001b[0;32madding file2.txt\u001b[0m\n"
     ]
    }
   ],
   "source": [
    "hg add"
   ]
  },
  {
   "cell_type": "code",
   "execution_count": 55,
   "metadata": {},
   "outputs": [],
   "source": [
    "hg commit -m \"Add file 2\""
   ]
  },
  {
   "cell_type": "code",
   "execution_count": 56,
   "metadata": {},
   "outputs": [
    {
     "name": "stdout",
     "output_type": "stream",
     "text": [
      "@  \u001b[0;31;1mchangeset:   4:bd539f0ab390\u001b[0m\n",
      "|  tag:         tip\n",
      "|  parent:      2:8bfba1b25e7d\n",
      "|  user:        Pierre Augier <pa@example.com>\n",
      "|  date:        Tue Sep 06 21:44:49 2022 +0200\n",
      "|  summary:     Add file 2\n",
      "|\n",
      "| o  \u001b[0;31;1mchangeset:   3:d7f0bba98ea8\u001b[0m\n",
      "| |  parent:      0:f7dcc9188623\n",
      "| |  user:        Pierre Augier <pa@example.com>\n",
      "| |  date:        Tue Sep 06 21:44:46 2022 +0200\n",
      "| |  summary:     A line in file0.txt\n",
      "| |\n",
      "o |  \u001b[0;31;1mchangeset:   2:8bfba1b25e7d\u001b[0m\n",
      "| |  user:        Pierre Augier <pa@example.com>\n",
      "| |  date:        Tue Sep 06 21:44:41 2022 +0200\n",
      "| |  summary:     Hello world in file1.txt\n",
      "| |\n",
      "o |  \u001b[0;31;1mchangeset:   1:02ac2678cff1\u001b[0m\n",
      "|/   user:        Pierre Augier <pa@example.com>\n",
      "|    date:        Tue Sep 06 21:44:40 2022 +0200\n",
      "|    summary:     Remove file0 and add file1\n",
      "|\n",
      "o  \u001b[0;31;1mchangeset:   0:f7dcc9188623\u001b[0m\n",
      "   user:        Pierre Augier <pa@example.com>\n",
      "   date:        Tue Sep 06 21:44:38 2022 +0200\n",
      "   summary:     First commit\n",
      "\n"
     ]
    }
   ],
   "source": [
    "hg log -G"
   ]
  },
  {
   "cell_type": "markdown",
   "metadata": {},
   "source": [
    "We cleanup a bit to get back a linear history. Since all commits are local, they are in a draft phase and they can be obsoleted without problem."
   ]
  },
  {
   "cell_type": "code",
   "execution_count": 57,
   "metadata": {},
   "outputs": [
    {
     "name": "stdout",
     "output_type": "stream",
     "text": [
      "1 changesets pruned\n"
     ]
    }
   ],
   "source": [
    "hg prune 3"
   ]
  },
  {
   "cell_type": "code",
   "execution_count": 58,
   "metadata": {},
   "outputs": [
    {
     "name": "stdout",
     "output_type": "stream",
     "text": [
      "@  \u001b[0;31;1mchangeset:   4:bd539f0ab390\u001b[0m\n",
      "|  tag:         tip\n",
      "|  parent:      2:8bfba1b25e7d\n",
      "|  user:        Pierre Augier <pa@example.com>\n",
      "|  date:        Tue Sep 06 21:44:49 2022 +0200\n",
      "|  summary:     Add file 2\n",
      "|\n",
      "o  \u001b[0;31;1mchangeset:   2:8bfba1b25e7d\u001b[0m\n",
      "|  user:        Pierre Augier <pa@example.com>\n",
      "|  date:        Tue Sep 06 21:44:41 2022 +0200\n",
      "|  summary:     Hello world in file1.txt\n",
      "|\n",
      "o  \u001b[0;31;1mchangeset:   1:02ac2678cff1\u001b[0m\n",
      "|  user:        Pierre Augier <pa@example.com>\n",
      "|  date:        Tue Sep 06 21:44:40 2022 +0200\n",
      "|  summary:     Remove file0 and add file1\n",
      "|\n",
      "o  \u001b[0;31;1mchangeset:   0:f7dcc9188623\u001b[0m\n",
      "   user:        Pierre Augier <pa@example.com>\n",
      "   date:        Tue Sep 06 21:44:38 2022 +0200\n",
      "   summary:     First commit\n",
      "\n"
     ]
    }
   ],
   "source": [
    "hg log -G"
   ]
  },
  {
   "cell_type": "markdown",
   "metadata": {
    "slideshow": {
     "slide_type": "slide"
    }
   },
   "source": [
    "## Level 2: working with a remote repository (usually on the web)\n",
    "\n",
    "```{image} ./fig/schemes_hggit/simple_commands_hg.png\n",
    ":alt: git\n",
    ":width: 60%\n",
    ":align: center\n",
    "```"
   ]
  },
  {
   "cell_type": "markdown",
   "metadata": {},
   "source": [
    "### Commands `clone`, `push`, `pull`\n",
    "\n",
    "The most standard way to create a local repository is to clone a remote repository available on the web. This is done with the command `clone` like this:\n",
    "\n",
    "```bash\n",
    "hg clone ssh://hg@foss.heptapod.net/fluiddyn/fluidsim\n",
    "```\n",
    "\n",
    "Here, I used ssh, which is usually more convenient than https, but one can also use http addresses like `https://github.com/hpyproject/hpy.git`. On Github, Gitlab, Heptapod, there is usually a blue button `Code` or `Clone` from which one can get the right address to clone a repository. \n",
    "\n",
    "Warning: sometimes, the addresses are not exactly like the web address, for example `git@github.com:hpyproject/hpy.git`.\n",
    "\n",
    "Note: with the extension `hggit`, one can work on remote Git repositories with a local Mercurial repository (more on that later).\n",
    "\n",
    "For this tutorial, we will create a local \"web\" repository."
   ]
  },
  {
   "cell_type": "code",
   "execution_count": 59,
   "metadata": {},
   "outputs": [
    {
     "name": "stdout",
     "output_type": "stream",
     "text": [
      "/tmp/myrepos\n"
     ]
    }
   ],
   "source": [
    "cd ..\n",
    "pwd"
   ]
  },
  {
   "cell_type": "code",
   "execution_count": 60,
   "metadata": {},
   "outputs": [
    {
     "name": "stdout",
     "output_type": "stream",
     "text": [
      "requesting all changes\n",
      "adding changesets\n",
      "adding manifests\n",
      "adding file changes\n",
      "added 4 changesets with 4 changes to 3 files\n",
      "1 new obsolescence markers\n",
      "new changesets f7dcc9188623:bd539f0ab390\n",
      "updating to branch default\n",
      "2 files updated, 0 files merged, 0 files removed, 0 files unresolved\n"
     ]
    }
   ],
   "source": [
    "hg clone myrepo0 myrepo_web"
   ]
  },
  {
   "cell_type": "markdown",
   "metadata": {},
   "source": [
    "Now, we have a \"web\" repository that we can use as if it was on the web. Let's first clone it."
   ]
  },
  {
   "cell_type": "code",
   "execution_count": 61,
   "metadata": {},
   "outputs": [
    {
     "name": "stdout",
     "output_type": "stream",
     "text": [
      "updating to branch default\n",
      "2 files updated, 0 files merged, 0 files removed, 0 files unresolved\n"
     ]
    }
   ],
   "source": [
    "hg clone myrepo_web myrepo1"
   ]
  },
  {
   "cell_type": "code",
   "execution_count": 62,
   "metadata": {},
   "outputs": [],
   "source": [
    "cd myrepo1"
   ]
  },
  {
   "cell_type": "code",
   "execution_count": 63,
   "metadata": {},
   "outputs": [
    {
     "name": "stdout",
     "output_type": "stream",
     "text": [
      "file1.txt  file2.txt\n"
     ]
    }
   ],
   "source": [
    "ls"
   ]
  },
  {
   "cell_type": "code",
   "execution_count": 64,
   "metadata": {},
   "outputs": [
    {
     "name": "stdout",
     "output_type": "stream",
     "text": [
      "\u001b[0;34;1mM \u001b[0m\u001b[0;34;1mfile2.txt\u001b[0m\n"
     ]
    }
   ],
   "source": [
    "echo \"Hello\" > file2.txt\n",
    "hg st"
   ]
  },
  {
   "cell_type": "code",
   "execution_count": 65,
   "metadata": {},
   "outputs": [],
   "source": [
    "hg commit -m \"Improve file2\""
   ]
  },
  {
   "cell_type": "code",
   "execution_count": 66,
   "metadata": {},
   "outputs": [
    {
     "name": "stdout",
     "output_type": "stream",
     "text": [
      "@  \u001b[0;31;1mchangeset:   4:c3c17f042f45\u001b[0m\n",
      "|  tag:         tip\n",
      "|  user:        Pierre Augier <pa@example.com>\n",
      "|  date:        Tue Sep 06 21:44:51 2022 +0200\n",
      "|  summary:     Improve file2\n",
      "|\n",
      "o  \u001b[0;31;1mchangeset:   3:bd539f0ab390\u001b[0m\n",
      "|  user:        Pierre Augier <pa@example.com>\n",
      "|  date:        Tue Sep 06 21:44:49 2022 +0200\n",
      "|  summary:     Add file 2\n",
      "|\n",
      "o  \u001b[0;31;1mchangeset:   2:8bfba1b25e7d\u001b[0m\n",
      "|  user:        Pierre Augier <pa@example.com>\n",
      "|  date:        Tue Sep 06 21:44:41 2022 +0200\n",
      "|  summary:     Hello world in file1.txt\n",
      "|\n",
      "o  \u001b[0;31;1mchangeset:   1:02ac2678cff1\u001b[0m\n",
      "|  user:        Pierre Augier <pa@example.com>\n",
      "|  date:        Tue Sep 06 21:44:40 2022 +0200\n",
      "|  summary:     Remove file0 and add file1\n",
      "|\n",
      "o  \u001b[0;31;1mchangeset:   0:f7dcc9188623\u001b[0m\n",
      "   user:        Pierre Augier <pa@example.com>\n",
      "   date:        Tue Sep 06 21:44:38 2022 +0200\n",
      "   summary:     First commit\n",
      "\n"
     ]
    }
   ],
   "source": [
    "hg log -G"
   ]
  },
  {
   "cell_type": "code",
   "execution_count": 67,
   "metadata": {},
   "outputs": [
    {
     "name": "stdout",
     "output_type": "stream",
     "text": [
      "pushing to /tmp/myrepos/myrepo_web\n",
      "searching for changes\n",
      "adding changesets\n",
      "adding manifests\n",
      "adding file changes\n",
      "added 1 changesets with 1 changes to 1 files\n"
     ]
    }
   ],
   "source": [
    "hg push"
   ]
  },
  {
   "cell_type": "markdown",
   "metadata": {},
   "source": [
    "At this point, we have 2 repositories."
   ]
  },
  {
   "cell_type": "code",
   "execution_count": 68,
   "metadata": {},
   "outputs": [
    {
     "name": "stdout",
     "output_type": "stream",
     "text": [
      "/tmp/myrepos\n",
      "\u001b[0m\u001b[01;34mmyrepo0\u001b[0m  \u001b[01;34mmyrepo1\u001b[0m  \u001b[01;34mmyrepo_web\u001b[0m\n"
     ]
    }
   ],
   "source": [
    "cd /tmp/myrepos\n",
    "pwd\n",
    "ls"
   ]
  },
  {
   "cell_type": "markdown",
   "metadata": {},
   "source": [
    "Let's create a new repository from the repo on the web. (Usually, it is done in another computer.)"
   ]
  },
  {
   "cell_type": "code",
   "execution_count": 69,
   "metadata": {},
   "outputs": [
    {
     "name": "stdout",
     "output_type": "stream",
     "text": [
      "updating to branch default\n",
      "2 files updated, 0 files merged, 0 files removed, 0 files unresolved\n"
     ]
    }
   ],
   "source": [
    "hg clone myrepo_web myrepo_other_computer"
   ]
  },
  {
   "cell_type": "code",
   "execution_count": 70,
   "metadata": {},
   "outputs": [
    {
     "name": "stdout",
     "output_type": "stream",
     "text": [
      "file1.txt  file2.txt\n"
     ]
    }
   ],
   "source": [
    "cd myrepo_other_computer\n",
    "ls"
   ]
  },
  {
   "cell_type": "code",
   "execution_count": 71,
   "metadata": {},
   "outputs": [
    {
     "name": "stdout",
     "output_type": "stream",
     "text": [
      "Hello\n"
     ]
    }
   ],
   "source": [
    "cat file2.txt"
   ]
  },
  {
   "cell_type": "code",
   "execution_count": 72,
   "metadata": {},
   "outputs": [],
   "source": [
    "echo \"Hello Word!\" > file2.txt"
   ]
  },
  {
   "cell_type": "code",
   "execution_count": 73,
   "metadata": {},
   "outputs": [
    {
     "name": "stdout",
     "output_type": "stream",
     "text": [
      "\u001b[0;34;1mM \u001b[0m\u001b[0;34;1mfile2.txt\u001b[0m\n"
     ]
    }
   ],
   "source": [
    "hg st"
   ]
  },
  {
   "cell_type": "code",
   "execution_count": 74,
   "metadata": {},
   "outputs": [],
   "source": [
    "hg commit -m '\"Hello Word!\" is even nicer'"
   ]
  },
  {
   "cell_type": "code",
   "execution_count": 75,
   "metadata": {},
   "outputs": [],
   "source": [
    "hg st"
   ]
  },
  {
   "cell_type": "markdown",
   "metadata": {},
   "source": [
    "We push the new changeset towards the default repository (from which this repository has been created), which is the \"web\" repository."
   ]
  },
  {
   "cell_type": "code",
   "execution_count": 76,
   "metadata": {},
   "outputs": [
    {
     "name": "stdout",
     "output_type": "stream",
     "text": [
      "pushing to /tmp/myrepos/myrepo_web\n",
      "searching for changes\n",
      "adding changesets\n",
      "adding manifests\n",
      "adding file changes\n",
      "added 1 changesets with 1 changes to 1 files\n"
     ]
    }
   ],
   "source": [
    "hg push"
   ]
  },
  {
   "cell_type": "markdown",
   "metadata": {},
   "source": [
    "Let's come back to the original repository in the first computer."
   ]
  },
  {
   "cell_type": "code",
   "execution_count": 77,
   "metadata": {},
   "outputs": [],
   "source": [
    "cd ../myrepo1"
   ]
  },
  {
   "cell_type": "code",
   "execution_count": 78,
   "metadata": {},
   "outputs": [
    {
     "name": "stdout",
     "output_type": "stream",
     "text": [
      "Hello\n"
     ]
    }
   ],
   "source": [
    "cat file2.txt"
   ]
  },
  {
   "cell_type": "code",
   "execution_count": 79,
   "metadata": {},
   "outputs": [
    {
     "name": "stdout",
     "output_type": "stream",
     "text": [
      "\u001b[0;31;1mparent: 4:c3c17f042f45 \u001b[0mtip\n",
      " Improve file2\n",
      "branch: default\n",
      "commit: (clean)\n",
      "update: (current)\n"
     ]
    }
   ],
   "source": [
    "hg sum"
   ]
  },
  {
   "cell_type": "code",
   "execution_count": 80,
   "metadata": {},
   "outputs": [
    {
     "name": "stdout",
     "output_type": "stream",
     "text": [
      "pulling from /tmp/myrepos/myrepo_web\n",
      "searching for changes\n",
      "adding changesets\n",
      "adding manifests\n",
      "adding file changes\n",
      "added 1 changesets with 1 changes to 1 files\n",
      "new changesets d416bb8bde96\n",
      "(run 'hg update' to get a working copy)\n"
     ]
    }
   ],
   "source": [
    "hg pull"
   ]
  },
  {
   "cell_type": "code",
   "execution_count": 81,
   "metadata": {},
   "outputs": [
    {
     "name": "stdout",
     "output_type": "stream",
     "text": [
      "1 files updated, 0 files merged, 0 files removed, 0 files unresolved\n"
     ]
    }
   ],
   "source": [
    "hg up"
   ]
  },
  {
   "cell_type": "markdown",
   "metadata": {},
   "source": [
    "We could have just run `hg pull -u` to pull and update to the tip of the branch where we are, i.e. the last commit since the repository is now in a linear state."
   ]
  },
  {
   "cell_type": "code",
   "execution_count": 82,
   "metadata": {},
   "outputs": [
    {
     "name": "stdout",
     "output_type": "stream",
     "text": [
      "\u001b[0;31;1mparent: 5:d416bb8bde96 \u001b[0mtip\n",
      " \"Hello Word!\" is even nicer\n",
      "branch: default\n",
      "commit: (clean)\n",
      "update: (current)\n"
     ]
    }
   ],
   "source": [
    "hg sum"
   ]
  },
  {
   "cell_type": "code",
   "execution_count": 83,
   "metadata": {},
   "outputs": [
    {
     "name": "stdout",
     "output_type": "stream",
     "text": [
      "Hello Word!\n"
     ]
    }
   ],
   "source": [
    "cat file2.txt"
   ]
  },
  {
   "cell_type": "markdown",
   "metadata": {
    "slideshow": {
     "slide_type": "slide"
    }
   },
   "source": [
    "## Level 3: nonlinear history, unnamed branches and `merge`/`rebase` commands  "
   ]
  },
  {
   "cell_type": "markdown",
   "metadata": {},
   "source": [
    "We can now consider the case in which 2 persons (Alice and Bob) work at the same time on the same project. First they both clone the web repository."
   ]
  },
  {
   "cell_type": "code",
   "execution_count": 84,
   "metadata": {},
   "outputs": [
    {
     "name": "stdout",
     "output_type": "stream",
     "text": [
      "updating to branch default\n",
      "2 files updated, 0 files merged, 0 files removed, 0 files unresolved\n"
     ]
    }
   ],
   "source": [
    "# Alice\n",
    "cd /tmp/myrepos/\n",
    "hg clone myrepo_web myrepo_Alice"
   ]
  },
  {
   "cell_type": "code",
   "execution_count": 85,
   "metadata": {},
   "outputs": [
    {
     "name": "stdout",
     "output_type": "stream",
     "text": [
      "updating to branch default\n",
      "2 files updated, 0 files merged, 0 files removed, 0 files unresolved\n"
     ]
    }
   ],
   "source": [
    "# Bob\n",
    "hg clone myrepo_web myrepo_Bob"
   ]
  },
  {
   "cell_type": "markdown",
   "metadata": {},
   "source": [
    "Just for this notebook, we can tell Mercurial who is the owner of Alice's and Bob's repositories. "
   ]
  },
  {
   "cell_type": "code",
   "execution_count": 86,
   "metadata": {},
   "outputs": [],
   "source": [
    "# not useful in real life!\n",
    "echo \"username = Alice <alice@mail.wonderland>\" >> /tmp/myrepos/myrepo_Alice/.hg/hgrc\n",
    "echo \"username = Bob <bob@mail.wonderland>\" >> /tmp/myrepos/myrepo_Bob/.hg/hgrc"
   ]
  },
  {
   "cell_type": "code",
   "execution_count": 87,
   "metadata": {},
   "outputs": [
    {
     "name": "stdout",
     "output_type": "stream",
     "text": [
      "\u001b[0;32madding Alice_file.py\u001b[0m\n",
      "pushing to /tmp/myrepos/myrepo_web\n",
      "searching for changes\n",
      "adding changesets\n",
      "adding manifests\n",
      "adding file changes\n",
      "added 1 changesets with 1 changes to 1 files\n"
     ]
    }
   ],
   "source": [
    "# Alice works\n",
    "cd /tmp/myrepos/myrepo_Alice\n",
    "touch Alice_file.py\n",
    "hg add\n",
    "hg commit -m \"Alice adds a file\"\n",
    "hg push"
   ]
  },
  {
   "cell_type": "code",
   "execution_count": 88,
   "metadata": {
    "tags": [
     "raises-exception"
    ]
   },
   "outputs": [
    {
     "name": "stdout",
     "output_type": "stream",
     "text": [
      "\u001b[0;32madding Bob_file.py\u001b[0m\n"
     ]
    }
   ],
   "source": [
    "# Bob works\n",
    "cd /tmp/myrepos/myrepo_Bob\n",
    "touch Bob_file.py\n",
    "hg add\n",
    "hg commit -m \"Bob adds a file\""
   ]
  },
  {
   "cell_type": "markdown",
   "metadata": {},
   "source": [
    "At this point, `hg push` would lead to the following error:\n",
    "\n",
    "```\n",
    "pushing to /tmp/myrepos/myrepo_web\n",
    "searching for changes\n",
    "remote has heads on branch 'default' that are not known locally: 69b3f39e70ab\n",
    "abort: push creates new remote head 938fc2084593!\n",
    "(pull and merge or see 'hg help push' for details about pushing new heads)\n",
    "```"
   ]
  },
  {
   "cell_type": "markdown",
   "metadata": {},
   "source": [
    "Bob encounters a problem... The remote repository has a commit which is not know locally. Let's first pull this commit."
   ]
  },
  {
   "cell_type": "code",
   "execution_count": 89,
   "metadata": {},
   "outputs": [
    {
     "name": "stdout",
     "output_type": "stream",
     "text": [
      "pulling from /tmp/myrepos/myrepo_web\n",
      "searching for changes\n",
      "adding changesets\n",
      "adding manifests\n",
      "adding file changes\n",
      "added 1 changesets with 1 changes to 1 files (+1 heads)\n",
      "new changesets faaf587b5bd9\n",
      "(run 'hg heads' to see heads, 'hg merge' to merge)\n"
     ]
    }
   ],
   "source": [
    "hg pull"
   ]
  },
  {
   "cell_type": "markdown",
   "metadata": {},
   "source": [
    "Now we can examine the situation."
   ]
  },
  {
   "cell_type": "code",
   "execution_count": 90,
   "metadata": {},
   "outputs": [
    {
     "name": "stdout",
     "output_type": "stream",
     "text": [
      "\u001b[0;31;1mchangeset:   7:faaf587b5bd9\u001b[0m\n",
      "tag:         tip\n",
      "parent:      5:d416bb8bde96\n",
      "user:        Alice <alice@mail.wonderland>\n",
      "date:        Tue Sep 06 21:44:57 2022 +0200\n",
      "summary:     Alice adds a file\n",
      "\n",
      "\u001b[0;31;1mchangeset:   6:39d0c9e5a69f\u001b[0m\n",
      "user:        Bob <bob@mail.wonderland>\n",
      "date:        Tue Sep 06 21:44:58 2022 +0200\n",
      "summary:     Bob adds a file\n",
      "\n"
     ]
    }
   ],
   "source": [
    "hg heads"
   ]
  },
  {
   "cell_type": "code",
   "execution_count": 91,
   "metadata": {},
   "outputs": [
    {
     "name": "stdout",
     "output_type": "stream",
     "text": [
      "o  \u001b[0;31;1mchangeset:   7:faaf587b5bd9\u001b[0m\n",
      "|  tag:         tip\n",
      "|  parent:      5:d416bb8bde96\n",
      "|  user:        Alice <alice@mail.wonderland>\n",
      "|  date:        Tue Sep 06 21:44:57 2022 +0200\n",
      "|  summary:     Alice adds a file\n",
      "|\n",
      "| @  \u001b[0;31;1mchangeset:   6:39d0c9e5a69f\u001b[0m\n",
      "|/   user:        Bob <bob@mail.wonderland>\n",
      "|    date:        Tue Sep 06 21:44:58 2022 +0200\n",
      "|    summary:     Bob adds a file\n",
      "|\n",
      "o  \u001b[0;31;1mchangeset:   5:d416bb8bde96\u001b[0m\n",
      "|  user:        Pierre Augier <pa@example.com>\n",
      "|  date:        Tue Sep 06 21:44:53 2022 +0200\n",
      "|  summary:     \"Hello Word!\" is even nicer\n",
      "|\n",
      "o  \u001b[0;31;1mchangeset:   4:c3c17f042f45\u001b[0m\n",
      "|  user:        Pierre Augier <pa@example.com>\n",
      "~  date:        Tue Sep 06 21:44:51 2022 +0200\n",
      "   summary:     Improve file2\n",
      "\n"
     ]
    }
   ],
   "source": [
    "hg log -G -l 4"
   ]
  },
  {
   "cell_type": "markdown",
   "metadata": {},
   "source": [
    "We have 2 \"unnamed branches\" (in the \"named branch\" `default`), i.e. 2 different commits with the same parent (changeset 5).\n",
    "\n",
    "A simple way to avoid this situation is to pull just before a commit and to make sure to commit from the last commit in the shared repository.\n",
    "\n",
    "There are different ways to solve this problem. The nicest would be to move changeset 6 above changeset 7 (actually change the parent of changeset 6 to changeset 7). It's very simple to do with the command `hg rebase -s 6 -d 7` (`-s` and `-d` mean source and destination, respectively). It is nice since it leads to a linear state but it is a little bit too complicated (history rewriting).\n",
    "\n",
    "In the error log, Mercurial tells us about the simple way to solve the situation: pull and merge. Let's try that."
   ]
  },
  {
   "cell_type": "code",
   "execution_count": 92,
   "metadata": {},
   "outputs": [
    {
     "name": "stdout",
     "output_type": "stream",
     "text": [
      "1 files updated, 0 files merged, 0 files removed, 0 files unresolved\n",
      "(branch merge, don't forget to commit)\n"
     ]
    }
   ],
   "source": [
    "hg merge"
   ]
  },
  {
   "cell_type": "code",
   "execution_count": 93,
   "metadata": {},
   "outputs": [
    {
     "name": "stdout",
     "output_type": "stream",
     "text": [
      "\u001b[0;31;1mparent: 6:39d0c9e5a69f \u001b[0m\n",
      " Bob adds a file\n",
      "\u001b[0;31;1mparent: 7:faaf587b5bd9 \u001b[0mtip\n",
      " Alice adds a file\n",
      "branch: default\n",
      "commit: \u001b[0;34;1m1 modified\u001b[0m (merge)\n",
      "update: (current)\n",
      "phases: 1 draft\n"
     ]
    }
   ],
   "source": [
    "hg sum"
   ]
  },
  {
   "cell_type": "code",
   "execution_count": 94,
   "metadata": {},
   "outputs": [
    {
     "name": "stdout",
     "output_type": "stream",
     "text": [
      "\u001b[0;34;1mM \u001b[0m\u001b[0;34;1mAlice_file.py\u001b[0m\n",
      "# The repository is in an unfinished *merge* state.\n",
      "\n",
      "# To continue:    hg commit\n",
      "# To abort:       hg merge --abort\n",
      "\n"
     ]
    }
   ],
   "source": [
    "hg st"
   ]
  },
  {
   "cell_type": "code",
   "execution_count": 95,
   "metadata": {},
   "outputs": [
    {
     "name": "stdout",
     "output_type": "stream",
     "text": [
      "Alice_file.py  Bob_file.py  file1.txt  file2.txt\n"
     ]
    }
   ],
   "source": [
    "ls"
   ]
  },
  {
   "cell_type": "code",
   "execution_count": 96,
   "metadata": {},
   "outputs": [],
   "source": [
    "hg commit -m \"Merge Alice and Bob commits\""
   ]
  },
  {
   "cell_type": "code",
   "execution_count": 97,
   "metadata": {},
   "outputs": [
    {
     "name": "stdout",
     "output_type": "stream",
     "text": [
      "@    \u001b[0;31;1mchangeset:   8:ba60c7f77030\u001b[0m\n",
      "|\\   tag:         tip\n",
      "| |  parent:      6:39d0c9e5a69f\n",
      "| |  parent:      7:faaf587b5bd9\n",
      "| |  user:        Bob <bob@mail.wonderland>\n",
      "| |  date:        Tue Sep 06 21:45:00 2022 +0200\n",
      "| |  summary:     Merge Alice and Bob commits\n",
      "| |\n",
      "| o  \u001b[0;31;1mchangeset:   7:faaf587b5bd9\u001b[0m\n",
      "| |  parent:      5:d416bb8bde96\n",
      "| |  user:        Alice <alice@mail.wonderland>\n",
      "| |  date:        Tue Sep 06 21:44:57 2022 +0200\n",
      "| |  summary:     Alice adds a file\n",
      "| |\n",
      "o |  \u001b[0;31;1mchangeset:   6:39d0c9e5a69f\u001b[0m\n",
      "|/   user:        Bob <bob@mail.wonderland>\n",
      "|    date:        Tue Sep 06 21:44:58 2022 +0200\n",
      "|    summary:     Bob adds a file\n",
      "|\n",
      "o  \u001b[0;31;1mchangeset:   5:d416bb8bde96\u001b[0m\n",
      "|  user:        Pierre Augier <pa@example.com>\n",
      "~  date:        Tue Sep 06 21:44:53 2022 +0200\n",
      "   summary:     \"Hello Word!\" is even nicer\n",
      "\n"
     ]
    }
   ],
   "source": [
    "hg log -G -l 4"
   ]
  },
  {
   "cell_type": "markdown",
   "metadata": {},
   "source": [
    "Note that the history is no longer linear. However, the repository is now in a good state so we should be able to push in the remote repository."
   ]
  },
  {
   "cell_type": "code",
   "execution_count": 98,
   "metadata": {},
   "outputs": [
    {
     "name": "stdout",
     "output_type": "stream",
     "text": [
      "pushing to /tmp/myrepos/myrepo_web\n",
      "searching for changes\n",
      "adding changesets\n",
      "adding manifests\n",
      "adding file changes\n",
      "added 2 changesets with 1 changes to 1 files\n"
     ]
    }
   ],
   "source": [
    "hg push"
   ]
  },
  {
   "cell_type": "markdown",
   "metadata": {},
   "source": [
    "And Alice can get Bob's file."
   ]
  },
  {
   "cell_type": "code",
   "execution_count": 99,
   "metadata": {},
   "outputs": [
    {
     "name": "stdout",
     "output_type": "stream",
     "text": [
      "pulling from /tmp/myrepos/myrepo_web\n",
      "searching for changes\n",
      "adding changesets\n",
      "adding manifests\n",
      "adding file changes\n",
      "added 2 changesets with 1 changes to 1 files\n",
      "new changesets 39d0c9e5a69f:ba60c7f77030\n",
      "1 files updated, 0 files merged, 0 files removed, 0 files unresolved\n"
     ]
    }
   ],
   "source": [
    "# Alice works\n",
    "cd /tmp/myrepos/myrepo_Alice\n",
    "hg pull -u"
   ]
  },
  {
   "cell_type": "code",
   "execution_count": 100,
   "metadata": {},
   "outputs": [
    {
     "name": "stdout",
     "output_type": "stream",
     "text": [
      "\u001b[0;31;1mparent: 8:ba60c7f77030 \u001b[0mtip\n",
      " Merge Alice and Bob commits\n",
      "branch: default\n",
      "commit: (clean)\n",
      "update: (current)\n"
     ]
    }
   ],
   "source": [
    "hg sum"
   ]
  },
  {
   "cell_type": "code",
   "execution_count": 101,
   "metadata": {},
   "outputs": [
    {
     "name": "stdout",
     "output_type": "stream",
     "text": [
      "Alice_file.py  Bob_file.py  file1.txt  file2.txt\n"
     ]
    }
   ],
   "source": [
    "ls"
   ]
  },
  {
   "cell_type": "markdown",
   "metadata": {
    "slideshow": {
     "slide_type": "slide"
    }
   },
   "source": [
    "## Working with Gitlab\n",
    "\n",
    "We are going to use the UGA instance <https://gricad-gitlab.univ-grenoble-alpes.fr>. \n",
    "\n",
    "- Login on the website.\n",
    "- From the website, create a repository\n",
    "- Clone it with Mercurial locally (once again, you need to activate the extension `hggit` enabled in the user Mercurial config file).\n",
    "\n",
    "  Note the difference between the https and ssh addresses. To use ssh, one first has to [setup a ssh key](https://gricad-gitlab.univ-grenoble-alpes.fr/profile/keys).\n",
    "  Let's do it! It is easy and very useful!\n",
    "  \n",
    "- Create a `README.md` file and fill it with few lines of markdown code.\n",
    "\n",
    "- Commit and push:\n",
    "\n",
    "```\n",
    "hg st\n",
    "hg add\n",
    "# create a commit locally on your computer\n",
    "hg commit -m \"Modify README.md\"\n",
    "# push it on the web server\n",
    "hg push\n",
    "```\n"
   ]
  },
  {
   "cell_type": "markdown",
   "metadata": {
    "slideshow": {
     "slide_type": "slide"
    }
   },
   "source": [
    "## Mercurial configuration files\n",
    "\n",
    "Simple text files... They can be edited with any text editors.\n",
    "\n",
    "- `~/.hgrc` (per user)\n",
    "\n",
    "If you don't have this file, you can create a reasonable conf. file with `hg config --edit`. See https://fluiddyn.readthedocs.io/en/latest/mercurial_heptapod.html#set-up-mercurial. This file contains in particular the list of activated Mercurial extensions.\n",
    "\n",
    "To use Mercurial with Git repositories hosted on Github/Gitlab, one need at least (yes, nothing after the `=`):\n",
    "\n",
    "```\n",
    "[extensions]\n",
    "hggit =\n",
    "```\n",
    "\n",
    "- `my_repo/.hg/hgrc` (per repo)\n",
    "\n",
    "This file contains in particular the path from which to pull/push by default. Something like:\n",
    "\n",
    "```\n",
    "[paths]\n",
    "default = ssh://hg@foss.heptapod.net/fluiddyn/transonic\n",
    "```\n",
    "\n",
    "To work with hg-git, it is convenient to have something like:\n",
    "\n",
    "```\n",
    "[paths]\n",
    "default = git@github.com:paugier/pythran.git\n",
    "upstream = https://github.com/serge-sans-paille/pythran.git\n",
    "```\n"
   ]
  },
  {
   "cell_type": "markdown",
   "metadata": {
    "slideshow": {
     "slide_type": "slide"
    }
   },
   "source": [
    "## Standard Github / Gitlab workflow"
   ]
  },
  {
   "cell_type": "markdown",
   "metadata": {},
   "source": [
    "```{image} ./fig/schemes_hggit/github_workflow.png\n",
    ":alt: git\n",
    ":width: 70%\n",
    ":align: center\n",
    "```"
   ]
  },
  {
   "cell_type": "markdown",
   "metadata": {},
   "source": [
    "Git branches are really like \"bookmarks\" that point towards a commit. In Mercurial, such things are called \"bookmarks\".\n",
    "\n",
    "::::{margin}\n",
    ":::{admonition} Name of the default Git branch: `master` or `main`?\n",
    "\n",
    "Historically, the default branch in a Git repository was called `master`. But this word is associated with slavery and now the default branch tends to be called `main`. Nowadays, one needs to check manually which name is used for the default branch (`master` or `main`).\n",
    ":::\n",
    "::::\n",
    "\n",
    "To create a Git branch in your remote forked repository, one can do:\n",
    "\n",
    "```bash\n",
    "hg pull upstream\n",
    "# update the code to the last commit of the `main` Git branch\n",
    "hg up main\n",
    "# create a new bookmark for our new Git branch\n",
    "hg bookmark my-fix-or-new-feature\n",
    "hg commit\n",
    "# ...\n",
    "hg push -B my-fix-or-new-feature\n",
    "```\n",
    "\n",
    "Then, one can create the Pull Request (Github) or Merge Request (Gitlab). Usually, it it done through the web interface."
   ]
  },
  {
   "cell_type": "markdown",
   "metadata": {
    "slideshow": {
     "slide_type": "slide"
    }
   },
   "source": [
    "## Heptapod workflow (without forks)"
   ]
  },
  {
   "cell_type": "markdown",
   "metadata": {},
   "source": [
    "```{image} ./fig/schemes_hggit/heptapod_workflow.png\n",
    ":alt: git\n",
    ":width: 70%\n",
    ":align: center\n",
    "```"
   ]
  },
  {
   "cell_type": "markdown",
   "metadata": {},
   "source": [
    "Mercurial feature branches are called \"topics\".\n",
    "\n",
    "To create a Merge Request in the remote repository, one can do:\n",
    "\n",
    "```bash\n",
    "hg pull\n",
    "hg up default\n",
    "hg topic my-fix-or-new-feature\n",
    "hg commit\n",
    "# ...\n",
    "hg push\n",
    "```\n"
   ]
  }
 ],
 "metadata": {
  "kernelspec": {
   "display_name": "Bash",
   "language": "bash",
   "name": "bash"
  },
  "language_info": {
   "codemirror_mode": "shell",
   "file_extension": ".sh",
   "mimetype": "text/x-sh",
   "name": "bash"
  }
 },
 "nbformat": 4,
 "nbformat_minor": 4
}
