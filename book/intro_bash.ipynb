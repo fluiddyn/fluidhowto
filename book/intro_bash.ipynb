{
 "cells": [
  {
   "cell_type": "markdown",
   "metadata": {
    "slideshow": {
     "slide_type": "slide"
    }
   },
   "source": [
    "# First steps with Bash and Linux\n",
    "\n",
    "Bash is the most standard shell on Unix systems (Linux, MacOS, ...). A shell is a basic programming language to interact with the computer and launch commands.\n",
    "\n",
    "There are standard commands (corresponding to programs, i.e. to files) to do many basic tasks. [This short document](https://files.fosswire.com/2007/08/fwunixref.pdf) lists several important commands.\n",
    "\n",
    "In the following, we are going to discover few commands and syntaxes. Let's start by a command to get the current working directory:"
   ]
  },
  {
   "cell_type": "code",
   "execution_count": 1,
   "metadata": {},
   "outputs": [
    {
     "name": "stdout",
     "output_type": "stream",
     "text": [
      "/home/pierre/output/teach/py-training-2023/book/part0\n"
     ]
    }
   ],
   "source": [
    "pwd"
   ]
  },
  {
   "cell_type": "markdown",
   "metadata": {},
   "source": [
    "We see that we ask `pwd` and we get an answer (as a string of characters).\n",
    "\n",
    "We see that in Linux, the separator for the path is the slash `/` and the root of the disk is just `/`. Usually, when at the beginning of an interactive session, we start in \n",
    "\n",
    "It's very important to understand that in a terminal, you are at a particular level in the directory tree. You have to know in which directory you are. If you don't know, use `pwd`!\n"
   ]
  },
  {
   "cell_type": "markdown",
   "metadata": {
    "slideshow": {
     "slide_type": "slide"
    }
   },
   "source": [
    "## Command `cd` to change the working directory\n",
    "\n",
    "Usually, we need to tell `cd` where we want to go to. One can use a full path (something like `/home/pierre/output/teach/py-training-2023/book`), a relative path (like `py-training-2023/book`) or few special cases (`~` for the home directory, `-` for the directory previously visited, `..` for the directory containing the directory where we are)."
   ]
  },
  {
   "cell_type": "code",
   "execution_count": 2,
   "metadata": {},
   "outputs": [
    {
     "name": "stdout",
     "output_type": "stream",
     "text": [
      "/home/pierre\n"
     ]
    }
   ],
   "source": [
    "cd ~\n",
    "pwd"
   ]
  },
  {
   "cell_type": "code",
   "execution_count": 3,
   "metadata": {},
   "outputs": [
    {
     "name": "stdout",
     "output_type": "stream",
     "text": [
      "/home/pierre/output/teach/py-training-2023/book/part0\n"
     ]
    }
   ],
   "source": [
    "cd -"
   ]
  },
  {
   "cell_type": "code",
   "execution_count": 4,
   "metadata": {},
   "outputs": [
    {
     "name": "stdout",
     "output_type": "stream",
     "text": [
      "/home/pierre/output/teach/py-training-2023/book\n"
     ]
    }
   ],
   "source": [
    "cd ..\n",
    "pwd"
   ]
  },
  {
   "cell_type": "code",
   "execution_count": 5,
   "metadata": {},
   "outputs": [
    {
     "name": "stdout",
     "output_type": "stream",
     "text": [
      "/home/pierre/output/teach/py-training-2023/book/part0\n"
     ]
    }
   ],
   "source": [
    "cd -"
   ]
  },
  {
   "cell_type": "code",
   "execution_count": 6,
   "metadata": {},
   "outputs": [
    {
     "name": "stdout",
     "output_type": "stream",
     "text": [
      "/home/pierre/output/teach/py-training-2023\n"
     ]
    }
   ],
   "source": [
    "cd ../..\n",
    "pwd"
   ]
  },
  {
   "cell_type": "code",
   "execution_count": 7,
   "metadata": {},
   "outputs": [
    {
     "name": "stdout",
     "output_type": "stream",
     "text": [
      "/home/pierre/output/teach/py-training-2023/book\n"
     ]
    }
   ],
   "source": [
    "cd book\n",
    "pwd"
   ]
  },
  {
   "cell_type": "code",
   "execution_count": 8,
   "metadata": {},
   "outputs": [],
   "source": [
    "cd .."
   ]
  },
  {
   "cell_type": "markdown",
   "metadata": {
    "slideshow": {
     "slide_type": "slide"
    }
   },
   "source": [
    "## Command `ls` to list the file in a directory\n",
    "\n",
    "After moving into a directory, it is very common that one wants to know what is in this directory. Just use"
   ]
  },
  {
   "cell_type": "code",
   "execution_count": 9,
   "metadata": {},
   "outputs": [
    {
     "name": "stdout",
     "output_type": "stream",
     "text": [
      "\u001b[0m\u001b[01;34mbook\u001b[0m  LICENSE.txt  main_environment.yml  Makefile  \u001b[01;34mold\u001b[0m  requirements.txt\n"
     ]
    }
   ],
   "source": [
    "ls"
   ]
  },
  {
   "cell_type": "code",
   "execution_count": 10,
   "metadata": {},
   "outputs": [
    {
     "name": "stdout",
     "output_type": "stream",
     "text": [
      "\u001b[0m\u001b[01;34mfig\u001b[0m  Gitlab_with_Mercurial.ipynb  hgrc4ipynb  install.md  intro_bash.ipynb\n"
     ]
    }
   ],
   "source": [
    "ls book/part0"
   ]
  },
  {
   "cell_type": "code",
   "execution_count": 11,
   "metadata": {},
   "outputs": [
    {
     "name": "stdout",
     "output_type": "stream",
     "text": [
      "book/part0/install.md\n"
     ]
    }
   ],
   "source": [
    "# list only a selection of files\n",
    "ls book/part0/*.md"
   ]
  },
  {
   "cell_type": "markdown",
   "metadata": {},
   "source": [
    "With `ls`, we are going to learn the concept of options for commands. It's possible to change the behavior of a command by adding options in the command line, written as `-l`. Let's see what it gives:"
   ]
  },
  {
   "cell_type": "code",
   "execution_count": 12,
   "metadata": {},
   "outputs": [
    {
     "name": "stdout",
     "output_type": "stream",
     "text": [
      "\u001b[0m\u001b[01;34mbook\u001b[0m  LICENSE.txt  main_environment.yml  Makefile  \u001b[01;34mold\u001b[0m  requirements.txt\n"
     ]
    }
   ],
   "source": [
    "ls"
   ]
  },
  {
   "cell_type": "code",
   "execution_count": 13,
   "metadata": {},
   "outputs": [
    {
     "name": "stdout",
     "output_type": "stream",
     "text": [
      "total 24\n",
      "drwxrwxr-x 5 pierre pierre 4096 Sep 10 22:23 \u001b[0m\u001b[01;34mbook\u001b[0m\n",
      "-rw-rw-r-- 1 pierre pierre 1499 Sep  6  2021 LICENSE.txt\n",
      "-rw-rw-r-- 1 pierre pierre  376 Sep 10 22:20 main_environment.yml\n",
      "-rw-rw-r-- 1 pierre pierre  135 Sep 10 22:20 Makefile\n",
      "drwxrwxr-x 5 pierre pierre 4096 Sep 10 22:17 \u001b[01;34mold\u001b[0m\n",
      "-rw-rw-r-- 1 pierre pierre  196 Sep 10 22:20 requirements.txt\n"
     ]
    }
   ],
   "source": [
    "ls -l"
   ]
  },
  {
   "cell_type": "code",
   "execution_count": 14,
   "metadata": {},
   "outputs": [
    {
     "name": "stdout",
     "output_type": "stream",
     "text": [
      "\u001b[0m\u001b[01;34m.\u001b[0m   \u001b[01;34mbook\u001b[0m        \u001b[01;34m.hg\u001b[0m          main_environment.yml  \u001b[01;34mold\u001b[0m               \u001b[01;34m.vscode\u001b[0m\n",
      "\u001b[01;34m..\u001b[0m  .gitignore  LICENSE.txt  Makefile              requirements.txt\n"
     ]
    }
   ],
   "source": [
    "ls -a"
   ]
  },
  {
   "cell_type": "code",
   "execution_count": 15,
   "metadata": {},
   "outputs": [
    {
     "name": "stdout",
     "output_type": "stream",
     "text": [
      "total 44\n",
      "drwxrwxr-x  6 pierre pierre 4096 Sep 10 22:20 \u001b[0m\u001b[01;34m.\u001b[0m\n",
      "drwxr-xr-x 23 pierre pierre 4096 Sep 10 22:19 \u001b[01;34m..\u001b[0m\n",
      "drwxrwxr-x  5 pierre pierre 4096 Sep 10 22:23 \u001b[01;34mbook\u001b[0m\n",
      "-rw-rw-r--  1 pierre pierre  264 Sep 10 22:19 .gitignore\n",
      "drwxrwxr-x  6 pierre pierre 4096 Sep 10 22:25 \u001b[01;34m.hg\u001b[0m\n",
      "-rw-rw-r--  1 pierre pierre 1499 Sep  6  2021 LICENSE.txt\n",
      "-rw-rw-r--  1 pierre pierre  376 Sep 10 22:20 main_environment.yml\n",
      "-rw-rw-r--  1 pierre pierre  135 Sep 10 22:20 Makefile\n",
      "drwxrwxr-x  5 pierre pierre 4096 Sep 10 22:17 \u001b[01;34mold\u001b[0m\n",
      "-rw-rw-r--  1 pierre pierre  196 Sep 10 22:20 requirements.txt\n",
      "drwxrwxr-x  2 pierre pierre 4096 Sep  6  2021 \u001b[01;34m.vscode\u001b[0m\n"
     ]
    }
   ],
   "source": [
    "ls -la"
   ]
  },
  {
   "cell_type": "markdown",
   "metadata": {},
   "source": [
    "We can get the help for a command and the list of supported options with `man`. Here, we only plot the 20 first lines (with the command `head`):"
   ]
  },
  {
   "cell_type": "code",
   "execution_count": 16,
   "metadata": {},
   "outputs": [
    {
     "name": "stdout",
     "output_type": "stream",
     "text": [
      "LS(1)                            User Commands                           LS(1)\n",
      "\n",
      "NAME\n",
      "       ls - list directory contents\n",
      "\n",
      "SYNOPSIS\n",
      "       ls [OPTION]... [FILE]...\n",
      "\n",
      "DESCRIPTION\n",
      "       List  information  about  the FILEs (the current directory by default).\n",
      "       Sort entries alphabetically if none of -cftuvSUX nor --sort  is  speci‐\n",
      "       fied.\n",
      "\n",
      "       Mandatory  arguments  to  long  options are mandatory for short options\n",
      "       too.\n",
      "\n",
      "       -a, --all\n",
      "              do not ignore entries starting with .\n",
      "\n",
      "       -A, --almost-all\n"
     ]
    }
   ],
   "source": [
    "man ls | head -20"
   ]
  },
  {
   "cell_type": "markdown",
   "metadata": {
    "slideshow": {
     "slide_type": "slide"
    }
   },
   "source": [
    "## Commands to create (`mkdir`, `touch`) and remove (`rm`) directories and files"
   ]
  },
  {
   "cell_type": "code",
   "execution_count": 17,
   "metadata": {},
   "outputs": [],
   "source": [
    "mkdir tmp_dir"
   ]
  },
  {
   "cell_type": "code",
   "execution_count": 18,
   "metadata": {},
   "outputs": [
    {
     "name": "stdout",
     "output_type": "stream",
     "text": [
      "\u001b[0m\u001b[01;34mbook\u001b[0m         main_environment.yml  \u001b[01;34mold\u001b[0m               \u001b[01;34mtmp_dir\u001b[0m\n",
      "LICENSE.txt  Makefile              requirements.txt\n"
     ]
    }
   ],
   "source": [
    "ls"
   ]
  },
  {
   "cell_type": "code",
   "execution_count": 19,
   "metadata": {},
   "outputs": [],
   "source": [
    "touch tmp_dir/toto.txt"
   ]
  },
  {
   "cell_type": "code",
   "execution_count": 20,
   "metadata": {},
   "outputs": [
    {
     "name": "stdout",
     "output_type": "stream",
     "text": [
      "toto.txt\n"
     ]
    }
   ],
   "source": [
    "ls tmp_dir"
   ]
  },
  {
   "cell_type": "code",
   "execution_count": 21,
   "metadata": {},
   "outputs": [],
   "source": [
    "rm -rf tmp_dir"
   ]
  },
  {
   "cell_type": "markdown",
   "metadata": {
    "slideshow": {
     "slide_type": "slide"
    }
   },
   "source": [
    "## Command `which` to tell which file corresponds to a command"
   ]
  },
  {
   "cell_type": "code",
   "execution_count": 22,
   "metadata": {},
   "outputs": [
    {
     "name": "stdout",
     "output_type": "stream",
     "text": [
      "/usr/bin/ls\n"
     ]
    }
   ],
   "source": [
    "which ls"
   ]
  },
  {
   "cell_type": "markdown",
   "metadata": {},
   "source": [
    "## Command `echo` to print to the screen"
   ]
  },
  {
   "cell_type": "code",
   "execution_count": 23,
   "metadata": {},
   "outputs": [
    {
     "name": "stdout",
     "output_type": "stream",
     "text": [
      "toto\n"
     ]
    }
   ],
   "source": [
    "echo \"toto\""
   ]
  },
  {
   "cell_type": "markdown",
   "metadata": {},
   "source": [
    "## Environment variables\n",
    "\n",
    "There are several already defined environment variables. The syntax to get the value of an environment variable is `$` followed by the variable name, for example (`echo` is a command that prints something):"
   ]
  },
  {
   "cell_type": "code",
   "execution_count": 24,
   "metadata": {},
   "outputs": [
    {
     "name": "stdout",
     "output_type": "stream",
     "text": [
      "/home/pierre\n"
     ]
    }
   ],
   "source": [
    "echo $HOME"
   ]
  },
  {
   "cell_type": "code",
   "execution_count": 25,
   "metadata": {},
   "outputs": [
    {
     "name": "stdout",
     "output_type": "stream",
     "text": [
      "/data0/opt/mambaforge/condabin/app:/home/pierre/mambaforge/condabin/app:/data0/opt/miniconda3/condabin/app:/home/pierre/.pyenv/bin:/home/pierre/.pyenv/versions/3.9.6/bin:/home/pierre/.pyenv/libexec:/home/pierre/.pyenv/plugins/python-build/bin:/data0/opt/mambaforge/condabin/app:/home/pierre/mambaforge/condabin/app:/data0/opt/miniconda3/condabin/app:/data0/opt/mambaforge/condabin:/home/pierre/.pyenv/bin:/home/pierre/.pyenv/shims:/home/pierre/.local/bin:/usr/local/sbin:/usr/local/bin:/usr/sbin:/usr/bin:/sbin:/bin:/usr/games:/usr/local/games:/snap/bin:/snap/bin:/home/pierre/opt/env_xonsh/bin/:/data0/opt/mambaforge/condabin/app:/home/pierre/.cargo/bin:/home/pierre/.pyenv/bin:/home/pierre/Dev/Nek5000/bin\n"
     ]
    }
   ],
   "source": [
    "echo $PATH"
   ]
  },
  {
   "cell_type": "markdown",
   "metadata": {},
   "source": [
    "We can also define our own variables to change the working environment:"
   ]
  },
  {
   "cell_type": "code",
   "execution_count": 26,
   "metadata": {},
   "outputs": [],
   "source": [
    "export MY_ENV_VAR=\"Bonjour\""
   ]
  },
  {
   "cell_type": "code",
   "execution_count": 27,
   "metadata": {},
   "outputs": [
    {
     "name": "stdout",
     "output_type": "stream",
     "text": [
      "Bonjour\n"
     ]
    }
   ],
   "source": [
    "echo $MY_ENV_VAR"
   ]
  },
  {
   "cell_type": "markdown",
   "metadata": {
    "slideshow": {
     "slide_type": "slide"
    }
   },
   "source": [
    "## Commands to add something in a file and to display the content of a file\n",
    "\n",
    "We are going to use `echo` plus some \"redirection\" syntaxes:"
   ]
  },
  {
   "cell_type": "code",
   "execution_count": 28,
   "metadata": {},
   "outputs": [],
   "source": [
    "mkdir -p /tmp/tmp_intro_bash\n",
    "cd /tmp/tmp_intro_bash"
   ]
  },
  {
   "cell_type": "code",
   "execution_count": 29,
   "metadata": {},
   "outputs": [],
   "source": [
    "echo \"toto\" > tmp.txt"
   ]
  },
  {
   "cell_type": "code",
   "execution_count": 30,
   "metadata": {},
   "outputs": [
    {
     "name": "stdout",
     "output_type": "stream",
     "text": [
      "tmp.txt\n"
     ]
    }
   ],
   "source": [
    "ls"
   ]
  },
  {
   "cell_type": "code",
   "execution_count": 31,
   "metadata": {},
   "outputs": [
    {
     "name": "stdout",
     "output_type": "stream",
     "text": [
      "toto\n"
     ]
    }
   ],
   "source": [
    "cat tmp.txt"
   ]
  },
  {
   "cell_type": "code",
   "execution_count": 32,
   "metadata": {},
   "outputs": [],
   "source": [
    "echo \"titi\" >> tmp.txt"
   ]
  },
  {
   "cell_type": "code",
   "execution_count": 33,
   "metadata": {},
   "outputs": [
    {
     "name": "stdout",
     "output_type": "stream",
     "text": [
      "toto\n",
      "titi\n"
     ]
    }
   ],
   "source": [
    "cat tmp.txt"
   ]
  },
  {
   "cell_type": "markdown",
   "metadata": {
    "slideshow": {
     "slide_type": "slide"
    }
   },
   "source": [
    "## Command `mv` to rename or move a file and `cp` to copy a file"
   ]
  },
  {
   "cell_type": "code",
   "execution_count": 34,
   "metadata": {},
   "outputs": [],
   "source": [
    "mv tmp.txt tmp2.txt"
   ]
  },
  {
   "cell_type": "code",
   "execution_count": 35,
   "metadata": {},
   "outputs": [],
   "source": [
    "cp tmp2.txt tmp3.txt"
   ]
  },
  {
   "cell_type": "code",
   "execution_count": 36,
   "metadata": {},
   "outputs": [
    {
     "name": "stdout",
     "output_type": "stream",
     "text": [
      "tmp2.txt  tmp3.txt\n"
     ]
    }
   ],
   "source": [
    "ls"
   ]
  },
  {
   "cell_type": "code",
   "execution_count": 37,
   "metadata": {},
   "outputs": [],
   "source": [
    "mkdir other_dir"
   ]
  },
  {
   "cell_type": "code",
   "execution_count": 38,
   "metadata": {},
   "outputs": [],
   "source": [
    "mv tmp2.txt other_dir"
   ]
  },
  {
   "cell_type": "code",
   "execution_count": 39,
   "metadata": {},
   "outputs": [
    {
     "name": "stdout",
     "output_type": "stream",
     "text": [
      "tmp2.txt\n"
     ]
    }
   ],
   "source": [
    "ls other_dir"
   ]
  },
  {
   "cell_type": "code",
   "execution_count": 40,
   "metadata": {},
   "outputs": [],
   "source": [
    "rm -rf /tmp/tmp_intro_bash"
   ]
  }
 ],
 "metadata": {
  "kernelspec": {
   "display_name": "Bash",
   "language": "bash",
   "name": "bash"
  },
  "language_info": {
   "codemirror_mode": "shell",
   "file_extension": ".sh",
   "mimetype": "text/x-sh",
   "name": "bash"
  }
 },
 "nbformat": 4,
 "nbformat_minor": 4
}
